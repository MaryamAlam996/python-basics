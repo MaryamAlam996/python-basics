{
 "cells": [
  {
   "cell_type": "markdown",
   "metadata": {},
   "source": [
    "<p style=\"text-align:center;\">\n",
    "<img src=\"https://github.com/digital-futures-academy/DataScienceMasterResources/blob/main/Resources/datascience-notebook-header.png?raw=true\"\n",
    "     alt=\"DigitalFuturesLogo\"\n",
    "     style=\"float: center; margin-right: 10px;\" />\n",
    "</p>\n",
    "\n",
    "# Digital Futures Python Challenges\n",
    "### Data Science Python Fundamentals\n",
    "\n",
    "- Each of these challenges will help you practice and apply your Python Knowledge.     \n",
    "- Section 1: Explains the Challenge. Write your function in this section.\n",
    "- Section 2: Creates Unit-Tests to check code. Just run this section.\n",
    "- Section 3: Runs the Unit-Tests to check the code. Just run this section.\n",
    "- The workbook might contain materials you have not yet come across, or are not comfortable with. If so, you can consult the other workbooks and come back to this.\n"
   ]
  },
  {
   "cell_type": "markdown",
   "metadata": {},
   "source": [
    "# 1: Lists, Tuples & Dictionaries"
   ]
  },
  {
   "cell_type": "markdown",
   "metadata": {},
   "source": [
    "## 1: Lists"
   ]
  },
  {
   "cell_type": "markdown",
   "metadata": {},
   "source": [
    " - Your function take in a list of places\n",
    " - You should sort the list into alphabetical order, then add \"Home\" in first place.\n",
    " - Due to COVID regulations, if the list contains \"Abroad\" it should be deleted"
   ]
  },
  {
   "cell_type": "code",
   "execution_count": 86,
   "metadata": {},
   "outputs": [
    {
     "name": "stdout",
     "output_type": "stream",
     "text": [
      "['Home', 'beach', 'gym', 'home', 'library', 'museum', 'park', 'restaurant', 'school', 'store', 'zoo']\n"
     ]
    }
   ],
   "source": [
    "def myListFunc(places):\n",
    "    message = places.copy()  # Create a copy of the input list to avoid modifying the original\n",
    "    if \"Abroad\" in message:\n",
    "        message.remove(\"Abroad\")\n",
    "    if \"Home\" in message:\n",
    "        message.remove(\"Home\")\n",
    "    message = sorted(message)  # Sort the modified list\n",
    "    message.insert(0, 'Home')  # Insert 'Home' at the beginning\n",
    "\n",
    "    \n",
    "    return message\n",
    "\n",
    "# Test the function\n",
    "result = myListFunc([\"school\", \"home\", \"park\", \"library\", \"gym\", \"store\", \"restaurant\", \"beach\", \"museum\", \"zoo\", \"Abroad\"])\n",
    "print(result)\n"
   ]
  },
  {
   "cell_type": "markdown",
   "metadata": {},
   "source": [
    "## 2: Tuples"
   ]
  },
  {
   "cell_type": "markdown",
   "metadata": {},
   "source": [
    " - The inuput to your function is two tuples\n",
    " - The function should reverse the first tuple, and append the second tuple without the last number\n",
    " - so (1, 2, 3), (4, 5, 6) should return (3, 2, 1, 4, 5)"
   ]
  },
  {
   "cell_type": "code",
   "execution_count": 43,
   "metadata": {},
   "outputs": [
    {
     "data": {
      "text/plain": [
       "(3, 2, 1, 4, 5)"
      ]
     },
     "execution_count": 43,
     "metadata": {},
     "output_type": "execute_result"
    }
   ],
   "source": [
    "#Def your Code here\n",
    "#You should not rename the function\n",
    "\n",
    "def myTupleFunc(t1, t2):\n",
    "    T1 = t1[::-1]\n",
    "    T2 = t2[:-1]\n",
    "    \n",
    "    message = T1 + T2\n",
    "    \n",
    "    return message\n",
    "\n",
    "\n",
    "myTupleFunc((1,2,3), (4,5,6))"
   ]
  },
  {
   "cell_type": "markdown",
   "metadata": {},
   "source": [
    "## 3: Dictionaries"
   ]
  },
  {
   "cell_type": "markdown",
   "metadata": {},
   "source": [
    " - Students have received marks in their modules.\n",
    " - Your function will take in a dictionary containing a list of modules and marks.\n",
    " \n",
    " - The function should return a message saying - \n",
    " - \"Congratulations, your highest score was [mark] in [module name]\"\n"
   ]
  },
  {
   "cell_type": "code",
   "execution_count": null,
   "metadata": {},
   "outputs": [
    {
     "data": {
      "text/plain": [
       "'Congratulations, your highest score was 95 in History.'"
      ]
     },
     "execution_count": 62,
     "metadata": {},
     "output_type": "execute_result"
    }
   ],
   "source": [
    "#Def your Code here\n",
    "#You should not rename the function\n",
    "\n",
    "def myDictFunc(scores):\n",
    "    highest_module = max(scores, key=scores.get)\n",
    "    highest_score = scores[highest_module]\n",
    "    message = f\"Congratulations, your highest score was {highest_score} in {highest_module}.\"\n",
    "    \n",
    "    return message\n",
    "\n",
    "scores = {'Math': 90, 'Science': 80, 'English': 85, 'History': 95, 'Geography': 75}\n",
    "myDictFunc(scores)"
   ]
  },
  {
   "cell_type": "markdown",
   "metadata": {},
   "source": [
    "# 2: Test Definition\n",
    "#### Just run this section - no ammendments necessary\n",
    "- Here we define the tests. \n"
   ]
  },
  {
   "cell_type": "code",
   "execution_count": null,
   "metadata": {},
   "outputs": [],
   "source": [
    "import unittest\n",
    "\n",
    "class DigitalFuturesUnitTest(unittest.TestCase):\n",
    "    \n",
    "    def test_0_pass(self):\n",
    "        testCalc = myListFunc(['shops', 'uni', 'Abroad', 'Basingstoke'])\n",
    "        self.assertEqual(testCalc, ['Home', 'Basingstoke', 'shops', 'uni'])\n",
    "        \n",
    "    def test_1_pass(self):\n",
    "        testCalc = myListFunc(['Edinburgh', 'Park', 'Beach'])\n",
    "        self.assertEqual(testCalc, ['Home', 'Beach', 'Edinburgh', 'Park'])\n",
    "        \n",
    "    def test_2_pass(self):\n",
    "        testCalc = myTupleFunc((15, 12, 36), (5, 11, 9))\n",
    "        self.assertEqual(testCalc, (36, 12, 15, 5, 11))\n",
    "        \n",
    "    def test_3_pass(self):\n",
    "        testCalc = myDictFunc({\"Phyics\":56, \"Art\":42, \"Data Science\":87, \"Geography\":65})\n",
    "        self.assertEqual(testCalc, \"Congratulations, your highest score was 87 in Data Science\")"
   ]
  },
  {
   "cell_type": "markdown",
   "metadata": {},
   "source": [
    "# 3: Run The Tests\n",
    "#### Just run this section - no ammendments necessary\n",
    "- This will test your code against the Digital Futures Unit Tests. \n",
    "- If all tests are okay, it will say 'OK'\n",
    "- If any test fails, it will explain which test it was and why it failed"
   ]
  },
  {
   "cell_type": "code",
   "execution_count": 88,
   "metadata": {},
   "outputs": [
    {
     "name": "stderr",
     "output_type": "stream",
     "text": [
      "test_0_pass (__main__.DigitalFuturesUnitTest.test_0_pass) ... ok\n",
      "test_1_pass (__main__.DigitalFuturesUnitTest.test_1_pass) ... ok\n",
      "test_2_pass (__main__.DigitalFuturesUnitTest.test_2_pass) ... ok\n",
      "test_3_pass (__main__.DigitalFuturesUnitTest.test_3_pass) ... FAIL\n",
      "\n",
      "======================================================================\n",
      "FAIL: test_3_pass (__main__.DigitalFuturesUnitTest.test_3_pass)\n",
      "----------------------------------------------------------------------\n",
      "Traceback (most recent call last):\n",
      "  File \"C:\\Users\\Marya\\AppData\\Local\\Temp\\ipykernel_43664\\1913653732.py\", line 19, in test_3_pass\n",
      "    self.assertEqual(testCalc, \"Congratulations, your highest score was 87 in Data Science\")\n",
      "AssertionError: 'Congratulations, your highest score was 87 in Data Science.' != 'Congratulations, your highest score was 87 in Data Science'\n",
      "- Congratulations, your highest score was 87 in Data Science.\n",
      "?                                                           -\n",
      "+ Congratulations, your highest score was 87 in Data Science\n",
      "\n",
      "\n",
      "----------------------------------------------------------------------\n",
      "Ran 4 tests in 0.006s\n",
      "\n",
      "FAILED (failures=1)\n"
     ]
    }
   ],
   "source": [
    "if __name__ == '__main__':\n",
    "    unittest.main(argv=['first-arg-is-ignored'], \n",
    "                  verbosity = 2, exit=False)"
   ]
  },
  {
   "cell_type": "code",
   "execution_count": null,
   "metadata": {},
   "outputs": [],
   "source": []
  }
 ],
 "metadata": {
  "kernelspec": {
   "display_name": "Python 3",
   "language": "python",
   "name": "python3"
  },
  "language_info": {
   "codemirror_mode": {
    "name": "ipython",
    "version": 3
   },
   "file_extension": ".py",
   "mimetype": "text/x-python",
   "name": "python",
   "nbconvert_exporter": "python",
   "pygments_lexer": "ipython3",
   "version": "3.12.2"
  },
  "nteract": {
   "version": "0.28.0"
  }
 },
 "nbformat": 4,
 "nbformat_minor": 2
}
