{
 "cells": [
  {
   "cell_type": "markdown",
   "metadata": {
    "id": "dCT-s1C_3Wel"
   },
   "source": [
    "<p style=\"text-align:center;\">\n",
    "<img src=\"https://github.com/digital-futures-academy/DataScienceMasterResources/blob/main/Resources/datascience-notebook-header.png?raw=true\"\n",
    "     alt=\"DigitalFuturesLogo\"\n",
    "     style=\"float: center; margin-right: 10px;\" />\n",
    "</p>\n",
    "\n",
    "# Digital Futures Python Challenges\n",
    "### Data Science Python Fundamentals\n",
    "\n",
    "- Each of these challenges will help you practice and apply your Python Knowledge.     \n",
    "- Section 1: Explains the Challenge. Write your function in this section.\n",
    "- Section 2: Creates Unit-Tests to check code. Just run this section.\n",
    "- Section 3: Runs the Unit-Tests to check the code. Just run this section.\n"
   ]
  },
  {
   "cell_type": "markdown",
   "metadata": {
    "id": "bs50Stm53Wen"
   },
   "source": [
    "# 1: If, Elif, Else"
   ]
  },
  {
   "cell_type": "markdown",
   "metadata": {
    "id": "LjKDSz0D3Wen"
   },
   "source": [
    "## 1: Lists"
   ]
  },
  {
   "cell_type": "markdown",
   "metadata": {
    "id": "w3DwNCBK3Wen"
   },
   "source": [
    "The function takes in the hour of the day (0-23)\n",
    "Depending in the hour the function should return a different message \n",
    "- 6-9 inclusive -> \"Good Morning\"\n",
    "- 14-16 inclusive -> \"Good Afternoon\"\n",
    "- 17-20 inclusive -> \"Good Evening\"\n",
    " - Otherwise - > \"Hello\"\n"
   ]
  },
  {
   "cell_type": "code",
   "execution_count": 6,
   "metadata": {
    "id": "ZwLbJIaG3Wen"
   },
   "outputs": [
    {
     "data": {
      "text/plain": [
       "'Good Evening'"
      ]
     },
     "execution_count": 6,
     "metadata": {},
     "output_type": "execute_result"
    }
   ],
   "source": [
    "#Def your Code here\n",
    "#You should not rename the function\n",
    "def myConditionalFunc(time):\n",
    "    if time >= 6 and time <= 9:\n",
    "        message = \"Good Morning\"\n",
    "    elif time >= 14 and time <= 16:\n",
    "        message = \"Good Afternoon\"\n",
    "    elif time >= 17 and time <= 20:\n",
    "        message = \"Good Evening\"\n",
    "    else:\n",
    "        message = \"Hello\"\n",
    "    \n",
    "    return message\n",
    "\n",
    "myConditionalFunc(17)"
   ]
  },
  {
   "cell_type": "markdown",
   "metadata": {
    "id": "y4PguHUj3Weo"
   },
   "source": [
    "## 2: And, or, Not"
   ]
  },
  {
   "cell_type": "markdown",
   "metadata": {
    "id": "S9BOTd4a3Weo"
   },
   "source": [
    " - For a student to pass their course they need either at least 40% in all modules and an average of 70%, or minimum 30% and an average of 80%.\n",
    " - They also need to have returned all their books to the library.\n",
    " - This function takes in minimum mark, average mark, and a boolean which is True if the student has books borrowed.\n",
    "Return True or False to show whether they can pass."
   ]
  },
  {
   "cell_type": "code",
   "execution_count": null,
   "metadata": {
    "id": "9Lk5P--z3Weo"
   },
   "outputs": [],
   "source": [
    "#Def your Code here\n",
    "#You should not rename the function\n",
    "def myBooleanLogicFunc(minim, avg, books_out):\n",
    "    \n",
    "    \n",
    "    return course\n",
    "\n"
   ]
  },
  {
   "cell_type": "markdown",
   "metadata": {
    "id": "164S7qXi3Weo"
   },
   "source": [
    "## 3: Conditional Expressions"
   ]
  },
  {
   "cell_type": "markdown",
   "metadata": {
    "id": "h7PPPf7q3Weo"
   },
   "source": [
    " - This function should return \"Connected\" if it is passed thestring \"Wifi\" or \"Ethernet\", and \"Problem\" otherwise\n",
    " - Try to write this in one line"
   ]
  },
  {
   "cell_type": "code",
   "execution_count": null,
   "metadata": {
    "id": "IdfdOIzg3Weo"
   },
   "outputs": [],
   "source": [
    "#Def your Code here\n",
    "#You should not rename the function\n",
    "def myExpressionFunc(internet):\n",
    "    \n",
    "    \n",
    "    return message"
   ]
  },
  {
   "cell_type": "markdown",
   "metadata": {
    "id": "Q96YtYCP3Wep"
   },
   "source": [
    "# 2: Test Definition\n",
    "#### Just run this section - no ammendments necessary\n",
    "- Here we define the tests. \n"
   ]
  },
  {
   "cell_type": "code",
   "execution_count": 7,
   "metadata": {
    "id": "MOB2kqLL3Wep"
   },
   "outputs": [],
   "source": [
    "import unittest\n",
    "class DigitalFuturesUnitTest(unittest.TestCase):\n",
    "    \n",
    "    def test_1_1_pass(self):\n",
    "        testCalc = myConditionalFunc(8)\n",
    "        self.assertEqual(testCalc, \"Good Morning\")\n",
    "    def test_1_2_pass(self):\n",
    "        testCalc = myConditionalFunc(16)\n",
    "        self.assertEqual(testCalc, \"Good Afternoon\")\n",
    "    def test_1_3_pass(self):\n",
    "        testCalc = myConditionalFunc(19)\n",
    "        self.assertEqual(testCalc, \"Good Evening\")\n",
    "    def test_1_4_pass(self):\n",
    "        testCalc = myConditionalFunc(12)\n",
    "        self.assertEqual(testCalc, \"Hello\")\n",
    "        \n",
    "    def test_2_1_pass(self):\n",
    "        testCalc = myBooleanLogicFunc(40, 75, False)\n",
    "        self.assertEqual(testCalc, True)\n",
    "    def test_2_2_pass(self):\n",
    "        testCalc = myBooleanLogicFunc(40, 65, False)\n",
    "        self.assertEqual(testCalc, False)\n",
    "    def test_2_3_pass(self):\n",
    "        testCalc = myBooleanLogicFunc(35, 75, False)\n",
    "        self.assertEqual(testCalc, False)\n",
    "    def test_2_4_pass(self):\n",
    "        testCalc = myBooleanLogicFunc(35, 85, False)\n",
    "        self.assertEqual(testCalc, True)\n",
    "    def test_2_5_pass(self):\n",
    "        testCalc = myBooleanLogicFunc(40, 75, True)\n",
    "        self.assertEqual(testCalc, False)\n",
    "    def test_2_6_pass(self):\n",
    "        testCalc = myBooleanLogicFunc(50, 85, True)\n",
    "        self.assertEqual(testCalc, False)\n",
    "        \n",
    "    def test_3_1_pass(self):\n",
    "        testCalc = myExpressionFunc(\"Wifi\")\n",
    "        self.assertEqual(testCalc, \"Connected\")\n",
    "    def test_3_2_pass(self):\n",
    "        testCalc = myExpressionFunc(\"Ethernet\")\n",
    "        self.assertEqual(testCalc, \"Connected\")\n",
    "    def test_3_3_pass(self):\n",
    "        testCalc = myExpressionFunc(\"Bluetooth\")\n",
    "        self.assertEqual(testCalc, \"Problem\")\n",
    "\n",
    " \n"
   ]
  },
  {
   "cell_type": "markdown",
   "metadata": {
    "id": "3qvtZBaT3Wep"
   },
   "source": [
    "# 3: Run The Tests\n",
    "#### Just run this section - no ammendments necessary\n",
    "- This will test your code against the Digital Futures Unit Tests. \n",
    "- If all tests are okay, it will say 'OK'\n",
    "- If any test fails, it will explain which test it was and why it failed"
   ]
  },
  {
   "cell_type": "code",
   "execution_count": 8,
   "metadata": {
    "id": "GRuXfI-b3Wep",
    "outputId": "e5f243f9-2864-4d22-be78-bd170e922c94"
   },
   "outputs": [
    {
     "name": "stderr",
     "output_type": "stream",
     "text": [
      "test_1_1_pass (__main__.DigitalFuturesUnitTest.test_1_1_pass) ... ok\n",
      "test_1_2_pass (__main__.DigitalFuturesUnitTest.test_1_2_pass) ... ok\n",
      "test_1_3_pass (__main__.DigitalFuturesUnitTest.test_1_3_pass) ... ok\n",
      "test_1_4_pass (__main__.DigitalFuturesUnitTest.test_1_4_pass) ... ok\n",
      "test_2_1_pass (__main__.DigitalFuturesUnitTest.test_2_1_pass) ... ERROR\n",
      "test_2_2_pass (__main__.DigitalFuturesUnitTest.test_2_2_pass) ... ERROR\n",
      "test_2_3_pass (__main__.DigitalFuturesUnitTest.test_2_3_pass) ... ERROR\n",
      "test_2_4_pass (__main__.DigitalFuturesUnitTest.test_2_4_pass) ... ERROR\n",
      "test_2_5_pass (__main__.DigitalFuturesUnitTest.test_2_5_pass) ... ERROR\n",
      "test_2_6_pass (__main__.DigitalFuturesUnitTest.test_2_6_pass) ... ERROR\n",
      "test_3_1_pass (__main__.DigitalFuturesUnitTest.test_3_1_pass) ... ERROR\n",
      "test_3_2_pass (__main__.DigitalFuturesUnitTest.test_3_2_pass) ... ERROR\n",
      "test_3_3_pass (__main__.DigitalFuturesUnitTest.test_3_3_pass) ... ERROR\n",
      "\n",
      "======================================================================\n",
      "ERROR: test_2_1_pass (__main__.DigitalFuturesUnitTest.test_2_1_pass)\n",
      "----------------------------------------------------------------------\n",
      "Traceback (most recent call last):\n",
      "  File \"C:\\Users\\Marya\\AppData\\Local\\Temp\\ipykernel_59416\\3200424842.py\", line 18, in test_2_1_pass\n",
      "    testCalc = myBooleanLogicFunc(40, 75, False)\n",
      "               ^^^^^^^^^^^^^^^^^^\n",
      "NameError: name 'myBooleanLogicFunc' is not defined\n",
      "\n",
      "======================================================================\n",
      "ERROR: test_2_2_pass (__main__.DigitalFuturesUnitTest.test_2_2_pass)\n",
      "----------------------------------------------------------------------\n",
      "Traceback (most recent call last):\n",
      "  File \"C:\\Users\\Marya\\AppData\\Local\\Temp\\ipykernel_59416\\3200424842.py\", line 21, in test_2_2_pass\n",
      "    testCalc = myBooleanLogicFunc(40, 65, False)\n",
      "               ^^^^^^^^^^^^^^^^^^\n",
      "NameError: name 'myBooleanLogicFunc' is not defined\n",
      "\n",
      "======================================================================\n",
      "ERROR: test_2_3_pass (__main__.DigitalFuturesUnitTest.test_2_3_pass)\n",
      "----------------------------------------------------------------------\n",
      "Traceback (most recent call last):\n",
      "  File \"C:\\Users\\Marya\\AppData\\Local\\Temp\\ipykernel_59416\\3200424842.py\", line 24, in test_2_3_pass\n",
      "    testCalc = myBooleanLogicFunc(35, 75, False)\n",
      "               ^^^^^^^^^^^^^^^^^^\n",
      "NameError: name 'myBooleanLogicFunc' is not defined\n",
      "\n",
      "======================================================================\n",
      "ERROR: test_2_4_pass (__main__.DigitalFuturesUnitTest.test_2_4_pass)\n",
      "----------------------------------------------------------------------\n",
      "Traceback (most recent call last):\n",
      "  File \"C:\\Users\\Marya\\AppData\\Local\\Temp\\ipykernel_59416\\3200424842.py\", line 27, in test_2_4_pass\n",
      "    testCalc = myBooleanLogicFunc(35, 85, False)\n",
      "               ^^^^^^^^^^^^^^^^^^\n",
      "NameError: name 'myBooleanLogicFunc' is not defined\n",
      "\n",
      "======================================================================\n",
      "ERROR: test_2_5_pass (__main__.DigitalFuturesUnitTest.test_2_5_pass)\n",
      "----------------------------------------------------------------------\n",
      "Traceback (most recent call last):\n",
      "  File \"C:\\Users\\Marya\\AppData\\Local\\Temp\\ipykernel_59416\\3200424842.py\", line 30, in test_2_5_pass\n",
      "    testCalc = myBooleanLogicFunc(40, 75, True)\n",
      "               ^^^^^^^^^^^^^^^^^^\n",
      "NameError: name 'myBooleanLogicFunc' is not defined\n",
      "\n",
      "======================================================================\n",
      "ERROR: test_2_6_pass (__main__.DigitalFuturesUnitTest.test_2_6_pass)\n",
      "----------------------------------------------------------------------\n",
      "Traceback (most recent call last):\n",
      "  File \"C:\\Users\\Marya\\AppData\\Local\\Temp\\ipykernel_59416\\3200424842.py\", line 33, in test_2_6_pass\n",
      "    testCalc = myBooleanLogicFunc(50, 85, True)\n",
      "               ^^^^^^^^^^^^^^^^^^\n",
      "NameError: name 'myBooleanLogicFunc' is not defined\n",
      "\n",
      "======================================================================\n",
      "ERROR: test_3_1_pass (__main__.DigitalFuturesUnitTest.test_3_1_pass)\n",
      "----------------------------------------------------------------------\n",
      "Traceback (most recent call last):\n",
      "  File \"C:\\Users\\Marya\\AppData\\Local\\Temp\\ipykernel_59416\\3200424842.py\", line 37, in test_3_1_pass\n",
      "    testCalc = myExpressionFunc(\"Wifi\")\n",
      "               ^^^^^^^^^^^^^^^^\n",
      "NameError: name 'myExpressionFunc' is not defined\n",
      "\n",
      "======================================================================\n",
      "ERROR: test_3_2_pass (__main__.DigitalFuturesUnitTest.test_3_2_pass)\n",
      "----------------------------------------------------------------------\n",
      "Traceback (most recent call last):\n",
      "  File \"C:\\Users\\Marya\\AppData\\Local\\Temp\\ipykernel_59416\\3200424842.py\", line 40, in test_3_2_pass\n",
      "    testCalc = myExpressionFunc(\"Ethernet\")\n",
      "               ^^^^^^^^^^^^^^^^\n",
      "NameError: name 'myExpressionFunc' is not defined\n",
      "\n",
      "======================================================================\n",
      "ERROR: test_3_3_pass (__main__.DigitalFuturesUnitTest.test_3_3_pass)\n",
      "----------------------------------------------------------------------\n",
      "Traceback (most recent call last):\n",
      "  File \"C:\\Users\\Marya\\AppData\\Local\\Temp\\ipykernel_59416\\3200424842.py\", line 43, in test_3_3_pass\n",
      "    testCalc = myExpressionFunc(\"Bluetooth\")\n",
      "               ^^^^^^^^^^^^^^^^\n",
      "NameError: name 'myExpressionFunc' is not defined\n",
      "\n",
      "----------------------------------------------------------------------\n",
      "Ran 13 tests in 0.052s\n",
      "\n",
      "FAILED (errors=9)\n"
     ]
    }
   ],
   "source": [
    "if __name__ == '__main__':\n",
    "    unittest.main(argv=['first-arg-is-ignored'], \n",
    "                  verbosity = 2, exit=False)"
   ]
  },
  {
   "cell_type": "code",
   "execution_count": null,
   "metadata": {
    "id": "_kR_Dmfe3Weq"
   },
   "outputs": [],
   "source": []
  }
 ],
 "metadata": {
  "colab": {
   "collapsed_sections": [],
   "name": "03 Python - Conditionals.ipynb",
   "provenance": []
  },
  "kernelspec": {
   "display_name": "Python 3",
   "language": "python",
   "name": "python3"
  },
  "language_info": {
   "codemirror_mode": {
    "name": "ipython",
    "version": 3
   },
   "file_extension": ".py",
   "mimetype": "text/x-python",
   "name": "python",
   "nbconvert_exporter": "python",
   "pygments_lexer": "ipython3",
   "version": "3.12.2"
  },
  "nteract": {
   "version": "0.28.0"
  }
 },
 "nbformat": 4,
 "nbformat_minor": 0
}
